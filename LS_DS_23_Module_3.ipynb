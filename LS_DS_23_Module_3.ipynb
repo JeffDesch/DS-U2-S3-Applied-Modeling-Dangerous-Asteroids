{
  "cells": [
    {
      "cell_type": "markdown",
      "metadata": {
        "id": "nCc3XZEyG3XV"
      },
      "source": [
        "BloomTech Data Science\n",
        "\n",
        "*Unit 2, Sprint 3, Module 3*\n",
        "\n",
        "---\n",
        "\n",
        "\n",
        "# Permutation & Boosting\n",
        "\n",
        "You will use your portfolio project dataset for all assignments this sprint.\n",
        "\n",
        "## Assignment\n",
        "\n",
        "Complete these tasks for your project, and document your work.\n",
        "\n",
        "- [ ] If you haven't completed assignment #1, please do so first.\n",
        "- [ ] Continue to clean and explore your data. Make exploratory visualizations.\n",
        "- [ ] Fit a model. Does it beat your baseline? \n",
        "- [ ] Try xgboost.\n",
        "- [ ] Get your model's permutation importances.\n",
        "\n",
        "You should try to complete an initial model today, because the rest of the week, we're making model interpretation visualizations.\n",
        "\n",
        "But, if you aren't ready to try xgboost and permutation importances with your dataset today, that's okay. You can practice with another dataset instead. You may choose any dataset you've worked with previously.\n",
        "\n",
        "The data subdirectory includes the Titanic dataset for classification and the NYC apartments dataset for regression. You may want to choose one of these datasets, because example solutions will be available for each.\n",
        "\n",
        "\n",
        "## Reading\n",
        "\n",
        "Top recommendations in _**bold italic:**_\n",
        "\n",
        "#### Permutation Importances\n",
        "- _**[Kaggle / Dan Becker: Machine Learning Explainability](https://www.kaggle.com/dansbecker/permutation-importance)**_\n",
        "- [Christoph Molnar: Interpretable Machine Learning](https://christophm.github.io/interpretable-ml-book/feature-importance.html)\n",
        "\n",
        "#### (Default) Feature Importances\n",
        "  - [Ando Saabas: Selecting good features, Part 3, Random Forests](https://blog.datadive.net/selecting-good-features-part-iii-random-forests/)\n",
        "  - [Terence Parr, et al: Beware Default Random Forest Importances](https://explained.ai/rf-importance/index.html)\n",
        "\n",
        "#### Gradient Boosting\n",
        "  - [A Gentle Introduction to the Gradient Boosting Algorithm for Machine Learning](https://machinelearningmastery.com/gentle-introduction-gradient-boosting-algorithm-machine-learning/)\n",
        "  - [An Introduction to Statistical Learning](http://www-bcf.usc.edu/~gareth/ISL/ISLR%20Seventh%20Printing.pdf), Chapter 8\n",
        "  - _**[Gradient Boosting Explained](https://www.gormanalysis.com/blog/gradient-boosting-explained/)**_ — Ben Gorman\n",
        "  - [Gradient Boosting Explained](http://arogozhnikov.github.io/2016/06/24/gradient_boosting_explained.html) — Alex Rogozhnikov\n",
        "  - [How to explain gradient boosting](https://explained.ai/gradient-boosting/) — Terence Parr & Jeremy Howard"
      ]
    },
    {
      "cell_type": "code",
      "execution_count": 40,
      "metadata": {},
      "outputs": [],
      "source": [
        "%%capture\n",
        "import sys\n",
        "\n",
        "# For Google reproducibility\n",
        "if 'google.colab' in sys.modules:\n",
        "    DATA_PATH = \"/content/drive/My Drive/Kaggle\"\n",
        "    !pip install category_encoders==2.*\n",
        "\n",
        "    #Connect to remote data\n",
        "    from google.colab import drive\n",
        "    drive.mount(DATA_PATH, force_remount=True)\n",
        "\n",
        "# Local data store on drive D:\n",
        "else:\n",
        "    DATA_PATH = \"D:/Datafiles/\""
      ]
    },
    {
      "cell_type": "code",
      "execution_count": 41,
      "metadata": {},
      "outputs": [],
      "source": [
        "# Import Block\n",
        "import pandas as pd\n",
        "import numpy as np\n",
        "import matplotlib.pyplot as plt\n",
        "#xgboost\n",
        "from xgboost import XGBClassifier \n",
        "# #imblearn\n",
        "# from imblearn.under_sampling import RandomUnderSampler\n",
        "# from imblearn.over_sampling import RandomOverSampler\n",
        "#sklearn\n",
        "from sklearn.metrics import accuracy_score, balanced_accuracy_score, recall_score, precision_score, f1_score\n",
        "from sklearn.dummy import DummyClassifier\n",
        "from sklearn.model_selection import train_test_split, RandomizedSearchCV\n",
        "from sklearn.linear_model import LogisticRegression\n",
        "from sklearn.ensemble import RandomForestClassifier\n",
        "from sklearn.preprocessing import StandardScaler, OrdinalEncoder\n",
        "from sklearn.pipeline import make_pipeline\n",
        "from sklearn.inspection import permutation_importance\n",
        "# from sklearn.compose import make_column_transformer\n",
        "# from sklearn.compose import make_column_selector as selector"
      ]
    },
    {
      "cell_type": "markdown",
      "metadata": {},
      "source": [
        "Part One - Dataset Basics\n",
        "\n",
        "For this week's modules I am using the asteroid dataset found on Kaggle here: https://www.kaggle.com/datasets/sakhawat18/asteroid-dataset\n",
        "(This is a cleaner version of the NASA/JPL datasets used in my portfolio projects, as such thoroughness is not needed for the daily projects)\n",
        "\n",
        "The target for this exercise will be the Potentially Hazardous Asteroid classification feature. \n",
        "Unfortunately (or, fortunately for the Earth) this feature is heavily unbalanced in favor of 'no' so we will need to adjust our metrics.\n",
        "\n",
        "This is an unbalanced binary classification problem, so we will evaluate balanced accuracy and F1 score, as well as ROC AUC.\n",
        "We will also evaluate the accuracy of the models trained on synthetically balanced datasets using eg. SMOTE techniques.\n",
        "\n",
        "The features in this dataset have a lot of redundancy due to having been merged from various sources; additionally there are\n",
        "many label features which need to be culled for modeling purposes and to prevent cross-leaking. \n",
        "\n",
        "Also worthy of note is that the PHA designation is a direct fuction of two features, absolute magnitude ('H') and minimum orbit intercept \n",
        "distance ('moid'), so models will eventually be compared between the initial inference with the features included, and ones built without \n",
        "those features."
      ]
    },
    {
      "cell_type": "code",
      "execution_count": 42,
      "metadata": {},
      "outputs": [],
      "source": [
        "# Wrangling Functions\n",
        "\n",
        "def wrangle(filepath):\n",
        "\n",
        "    df = pd.read_csv(filepath, index_col=['pdes']) #pdes = primary designation number\n",
        "    \n",
        "    #drop extraneous label/index/constant columns\n",
        "    labels = ['id', 'spkid', 'full_name', 'name', 'prefix', 'orbit_id', 'equinox', 'class']\n",
        "    df.drop(columns=labels, inplace=True)\n",
        "    #drop duplicate date/distance columns\n",
        "    #NOTE: we want consistent Julian dates & AU distances\n",
        "    labels= ['epoch_mjd', 'epoch_cal', 'tp_cal', 'per_y', 'moid_ld']\n",
        "    df.drop(columns=labels, inplace=True)\n",
        "    #drop leaky columns\n",
        "    labels = ['neo']\n",
        "    df.drop(columns=labels, inplace=True)\n",
        "\n",
        "    #drop rows with no target value\n",
        "    df.dropna(subset=['pha'], inplace=True)\n",
        "\n",
        "    #convert pha to tidy numeric binary encoding\n",
        "    df['pha'] = [1 if flag=='Y' else 0 for flag in df['pha']]\n",
        "\n",
        "    #calculate missing albedo from magnitude\n",
        "    abdmask =  (df['albedo'].isna() & ~(df['H'].isna() | df['diameter'].isna()))\n",
        "    df['albedo'].where(~abdmask, ((1329*(10**((-1)*(df['H']/5)))/df['diameter'])**2), inplace=True) \n",
        "\n",
        "    # impute remaining missing albedo with standard value\n",
        "    # see: https://en.wikipedia.org/wiki/Standard_asteroid_physical_characteristics\n",
        "    df['albedo'].where(~(df['albedo'].isna()), other=0.1, inplace=True)\n",
        "\n",
        "    # calculate missing diameter values from magnitude\n",
        "    diamask = (df['diameter'].isna() & ~(df['H'].isna() | df['albedo'].isna()))\n",
        "    df['diameter'].where(~diamask, (1329/(np.sqrt(df['albedo'])))*(10**((-1)*(df['H']/5))), inplace=True)\n",
        "\n",
        "    #impute missing diameter sigma values\n",
        "    #replacing with maximum error as we are using derived diameter values\n",
        "    df['diameter_sigma'].where(~(df['diameter_sigma'].isna()), other=df['diameter_sigma'].max(), inplace=True)\n",
        "\n",
        "    #finally, calculate missing magnitude values from albedo and diameter\n",
        "    hmask = (df['H'].isna() & ~(df['albedo'].isna() | df['diameter'].isna()))\n",
        "    df['H'].where(~hmask, 5 * (np.log10((1329/(df['diameter'] * np.sqrt(df['albedo']))))), inplace=True)\n",
        "\n",
        "    #any remaining missing values must be dropped\n",
        "    df.dropna(inplace=True)\n",
        "\n",
        "    return df"
      ]
    },
    {
      "cell_type": "code",
      "execution_count": 43,
      "metadata": {},
      "outputs": [
        {
          "name": "stderr",
          "output_type": "stream",
          "text": [
            "c:\\Users\\Jeff\\anaconda3\\lib\\site-packages\\IPython\\core\\interactiveshell.py:3357: DtypeWarning: Columns (3,4,5) have mixed types.Specify dtype option on import or set low_memory=False.\n",
            "  if (await self.run_code(code, result,  async_=asy)):\n"
          ]
        },
        {
          "name": "stdout",
          "output_type": "stream",
          "text": [
            "(936499, 30)\n",
            "\n",
            "<class 'pandas.core.frame.DataFrame'>\n",
            "Index: 936499 entries, 1 to 2678 T-3\n",
            "Data columns (total 30 columns):\n",
            " #   Column          Non-Null Count   Dtype  \n",
            "---  ------          --------------   -----  \n",
            " 0   pha             936499 non-null  int64  \n",
            " 1   H               936499 non-null  float64\n",
            " 2   diameter        936499 non-null  float64\n",
            " 3   albedo          936499 non-null  float64\n",
            " 4   diameter_sigma  936499 non-null  float64\n",
            " 5   epoch           936499 non-null  float64\n",
            " 6   e               936499 non-null  float64\n",
            " 7   a               936499 non-null  float64\n",
            " 8   q               936499 non-null  float64\n",
            " 9   i               936499 non-null  float64\n",
            " 10  om              936499 non-null  float64\n",
            " 11  w               936499 non-null  float64\n",
            " 12  ma              936499 non-null  float64\n",
            " 13  ad              936499 non-null  float64\n",
            " 14  n               936499 non-null  float64\n",
            " 15  tp              936499 non-null  float64\n",
            " 16  per             936499 non-null  float64\n",
            " 17  moid            936499 non-null  float64\n",
            " 18  sigma_e         936499 non-null  float64\n",
            " 19  sigma_a         936499 non-null  float64\n",
            " 20  sigma_q         936499 non-null  float64\n",
            " 21  sigma_i         936499 non-null  float64\n",
            " 22  sigma_om        936499 non-null  float64\n",
            " 23  sigma_w         936499 non-null  float64\n",
            " 24  sigma_ma        936499 non-null  float64\n",
            " 25  sigma_ad        936499 non-null  float64\n",
            " 26  sigma_n         936499 non-null  float64\n",
            " 27  sigma_tp        936499 non-null  float64\n",
            " 28  sigma_per       936499 non-null  float64\n",
            " 29  rms             936499 non-null  float64\n",
            "dtypes: float64(29), int64(1)\n",
            "memory usage: 221.5+ MB\n",
            "None\n"
          ]
        }
      ],
      "source": [
        "df = wrangle(DATA_PATH + \"/Asteroids/dataset.csv\")\n",
        "\n",
        "print(df.shape)\n",
        "print(\"\")\n",
        "print(df.info())"
      ]
    },
    {
      "cell_type": "markdown",
      "metadata": {},
      "source": [
        "Part Two - Baseline Modeling\n",
        "\n",
        "Baseline accuracy of ~0.998 is a bit problematic, so we will try \n",
        "1. Different scoring methods\n",
        "2. Some basic resampling \n",
        "before building the initial models"
      ]
    },
    {
      "cell_type": "code",
      "execution_count": 44,
      "metadata": {},
      "outputs": [
        {
          "name": "stdout",
          "output_type": "stream",
          "text": [
            "0.9977939111520674\n",
            "0.5\n"
          ]
        }
      ],
      "source": [
        "# Create two datasets to model, with/without the H (magnitude) + moid columns\n",
        "# easy mode = default columns, hard mode = without, model must infer from other data\n",
        "df_hard = df.drop(columns=['H', 'moid'])\n",
        "\n",
        "X = df.drop(columns='pha')\n",
        "y = df['pha']\n",
        "\n",
        "X_h = df_hard.drop(columns='pha')\n",
        "y_h = df_hard['pha']\n",
        "\n",
        "#naive baseline scores\n",
        "model_dum = DummyClassifier(strategy='prior').fit(X, y)\n",
        "dum_pred = model_dum.predict(X)\n",
        "baseline_acc = accuracy_score(y, dum_pred)\n",
        "print(baseline_acc)\n",
        "base_bal_acc = balanced_accuracy_score(y, dum_pred)\n",
        "print(base_bal_acc)\n"
      ]
    },
    {
      "cell_type": "code",
      "execution_count": 45,
      "metadata": {},
      "outputs": [
        {
          "name": "stdout",
          "output_type": "stream",
          "text": [
            "(749199, 29)\n",
            "(749199, 29)\n",
            "(749199,)\n",
            "(749199,)\n",
            "(749199, 27)\n",
            "(749199, 27)\n",
            "(749199,)\n",
            "(749199,)\n"
          ]
        }
      ],
      "source": [
        "#split datasets into train, test sets\n",
        "X_train, X_test, y_train, y_test = train_test_split(X, y, test_size=0.2, random_state=42)\n",
        "\n",
        "X_h_train, X_h_test, y_h_train, y_h_test = train_test_split(X_h, y_h, test_size=0.2, random_state=42)\n",
        "\n",
        "#get majority/minority class splits for resampling\n",
        "class_mask = (df['pha'] == 1)\n",
        "X_train_min, X_train_maj = X_train.loc[class_mask], X_train.loc[~class_mask]\n",
        "X_h_train_min, X_h_train_maj = X_h_train.loc[class_mask], X_h_train.loc[~class_mask]\n",
        "\n",
        "#evenly over- and under-sample dataset to create balanced training set\n",
        "pha_y, pha_n = y_train.value_counts(sort=True, ascending=True)\n",
        "\n",
        "train_midp_sample_1 = X_train_min.sample(((pha_n + pha_y)//2), replace=True)\n",
        "y_sample_1 = pd.Series([1] * len(train_midp_sample_1))\n",
        "train_midp_sample_0 = X_train_maj.sample(((pha_n + pha_y)//2)+1, replace=False)\n",
        "y_sample_0 = pd.Series([0] * len(train_midp_sample_0))\n",
        "X_train_res =  train_midp_sample_1.append(train_midp_sample_0, ignore_index=True)\n",
        "y_train_res = pd.concat([y_sample_1, y_sample_0], ignore_index=True)\n",
        "\n",
        "pha_h_y, pha_h_n = y_h_train.value_counts(sort=True, ascending=True)\n",
        "\n",
        "train_h_midp_sample_1 = X_h_train_min.sample(((pha_n + pha_y)//2), replace=True)\n",
        "y_h_sample_1 = pd.Series([1] * len(train_h_midp_sample_1))\n",
        "train_h_midp_sample_0 = X_h_train_maj.sample(((pha_h_n + pha_h_y)//2)+1, replace=False)\n",
        "y_h_sample_0 = pd.Series([0] * len(train_h_midp_sample_0))\n",
        "X_h_train_res =  train_h_midp_sample_1.append(train_h_midp_sample_0, ignore_index=True)\n",
        "y_h_train_res = pd.concat([y_h_sample_1, y_h_sample_0], ignore_index=True)\n",
        "\n",
        "#check for deformed arrays\n",
        "print(X_train.shape)\n",
        "print(X_train_res.shape)\n",
        "print(y_train.shape)\n",
        "print(y_train_res.shape)\n",
        "\n",
        "print(X_h_train.shape)\n",
        "print(X_h_train_res.shape)\n",
        "print(y_h_train.shape)\n",
        "print(y_h_train_res.shape)\n"
      ]
    },
    {
      "cell_type": "markdown",
      "metadata": {
        "id": "nCc3XZEyG3XV"
      },
      "source": [
        "BloomTech Data Science\n",
        "\n",
        "*Unit 2, Sprint 3, Module 3*\n",
        "\n",
        "---\n",
        "\n",
        "\n",
        "# Permutation & Boosting\n",
        "\n",
        "You will use your portfolio project dataset for all assignments this sprint.\n",
        "\n",
        "## Assignment\n",
        "\n",
        "Complete these tasks for your project, and document your work.\n",
        "\n",
        "- [ ] If you haven't completed assignment #1, please do so first.\n",
        "- [ ] Continue to clean and explore your data. Make exploratory visualizations.\n",
        "- [ ] Fit a model. Does it beat your baseline? \n",
        "- [ ] Try xgboost.\n",
        "- [ ] Get your model's permutation importances.\n",
        "\n",
        "You should try to complete an initial model today, because the rest of the week, we're making model interpretation visualizations.\n",
        "\n",
        "But, if you aren't ready to try xgboost and permutation importances with your dataset today, that's okay. You can practice with another dataset instead. You may choose any dataset you've worked with previously.\n",
        "\n",
        "The data subdirectory includes the Titanic dataset for classification and the NYC apartments dataset for regression. You may want to choose one of these datasets, because example solutions will be available for each.\n",
        "\n",
        "\n",
        "## Reading\n",
        "\n",
        "Top recommendations in _**bold italic:**_\n",
        "\n",
        "#### Permutation Importances\n",
        "- _**[Kaggle / Dan Becker: Machine Learning Explainability](https://www.kaggle.com/dansbecker/permutation-importance)**_\n",
        "- [Christoph Molnar: Interpretable Machine Learning](https://christophm.github.io/interpretable-ml-book/feature-importance.html)\n",
        "\n",
        "#### (Default) Feature Importances\n",
        "  - [Ando Saabas: Selecting good features, Part 3, Random Forests](https://blog.datadive.net/selecting-good-features-part-iii-random-forests/)\n",
        "  - [Terence Parr, et al: Beware Default Random Forest Importances](https://explained.ai/rf-importance/index.html)\n",
        "\n",
        "#### Gradient Boosting\n",
        "  - [A Gentle Introduction to the Gradient Boosting Algorithm for Machine Learning](https://machinelearningmastery.com/gentle-introduction-gradient-boosting-algorithm-machine-learning/)\n",
        "  - [An Introduction to Statistical Learning](http://www-bcf.usc.edu/~gareth/ISL/ISLR%20Seventh%20Printing.pdf), Chapter 8\n",
        "  - _**[Gradient Boosting Explained](https://www.gormanalysis.com/blog/gradient-boosting-explained/)**_ — Ben Gorman\n",
        "  - [Gradient Boosting Explained](http://arogozhnikov.github.io/2016/06/24/gradient_boosting_explained.html) — Alex Rogozhnikov\n",
        "  - [How to explain gradient boosting](https://explained.ai/gradient-boosting/) — Terence Parr & Jeremy Howard"
      ]
    },
    {
      "cell_type": "code",
      "execution_count": 46,
      "metadata": {},
      "outputs": [
        {
          "name": "stdout",
          "output_type": "stream",
          "text": [
            "######### Original Dataset Distributions ########\n",
            "*Full Data Columns*\n",
            "LR Model Accuracy:  0.9982594767752269\n",
            "LR Model Balanced Accuracy:  0.6768255810981356\n",
            "RF Model Accuracy:  0.999893219434063\n",
            "RF Model Balanced Accuracy:  0.9828633334716426\n",
            "*Limited Data Columns*\n",
            "LR Model Accuracy:  0.9974319273892152\n",
            "LR Model Balanced Accuracy:  0.524940230108523\n",
            "RF Model Accuracy:  0.9983342231713828\n",
            "RF Model Balanced Accuracy:  0.6985016999579061\n",
            "######### Resampled Dataset Distributions ########\n",
            "*Full Data Columns*\n",
            "LR Model Accuracy:  0.9938601174586226\n",
            "LR Model Balanced Accuracy:  0.9957839861213723\n",
            "RF Model Accuracy:  0.9999145755472504\n",
            "RF Model Balanced Accuracy:  0.9976794341772203\n",
            "*Limited Data Columns*\n",
            "LR Model Accuracy:  0.9791404164442071\n",
            "LR Model Balanced Accuracy:  0.9895457610429086\n",
            "RF Model Accuracy:  0.9978270154831821\n",
            "RF Model Balanced Accuracy:  0.8770511498510682\n"
          ]
        }
      ],
      "source": [
        "# Initial models\n",
        "# No need for Imputer or Encoder transformers\n",
        "model_lr = make_pipeline(StandardScaler(), LogisticRegression(max_iter=500))\n",
        "model_rf = make_pipeline(RandomForestClassifier(n_estimators=100, n_jobs=-1, random_state=42))\n",
        "\n",
        "print(\"######### Original Dataset Distributions ########\")\n",
        "\n",
        "print(\"*Full Data Columns*\")\n",
        "\n",
        "model_lr.fit(X_train, y_train)\n",
        "lr_acc = accuracy_score(y_test, model_lr.predict(X_test))\n",
        "print(\"LR Model Accuracy: \", lr_acc)\n",
        "lr_acc_bal = balanced_accuracy_score(y_test, model_lr.predict(X_test))\n",
        "print(\"LR Model Balanced Accuracy: \", lr_acc_bal)\n",
        "\n",
        "model_rf.fit(X_train, y_train)\n",
        "rf_acc = accuracy_score(y_test, model_rf.predict(X_test))\n",
        "print(\"RF Model Accuracy: \", rf_acc)\n",
        "rf_acc_bal = balanced_accuracy_score(y_test, model_rf.predict(X_test))\n",
        "print(\"RF Model Balanced Accuracy: \", rf_acc_bal)\n",
        "\n",
        "print(\"*Limited Data Columns*\")\n",
        "\n",
        "model_lr.fit(X_h_train, y_h_train)\n",
        "lr_h_acc = accuracy_score(y_h_test, model_lr.predict(X_h_test))\n",
        "print(\"LR Model Accuracy: \", lr_h_acc)\n",
        "lr_h_acc_bal = balanced_accuracy_score(y_h_test, model_lr.predict(X_h_test))\n",
        "print(\"LR Model Balanced Accuracy: \", lr_h_acc_bal)\n",
        "\n",
        "model_rf.fit(X_h_train, y_h_train)\n",
        "rf_h_acc = accuracy_score(y_h_test, model_rf.predict(X_h_test))\n",
        "print(\"RF Model Accuracy: \", rf_h_acc)\n",
        "rf_h_acc_bal = balanced_accuracy_score(y_h_test, model_rf.predict(X_h_test))\n",
        "print(\"RF Model Balanced Accuracy: \", rf_h_acc_bal)\n",
        "\n",
        "print(\"######### Resampled Dataset Distributions ########\")\n",
        "\n",
        "print(\"*Full Data Columns*\")\n",
        "\n",
        "model_lr.fit(X_train_res, y_train_res)\n",
        "lr_acc = accuracy_score(y_test, model_lr.predict(X_test))\n",
        "print(\"LR Model Accuracy: \", lr_acc)\n",
        "lr_acc_bal = balanced_accuracy_score(y_test, model_lr.predict(X_test))\n",
        "print(\"LR Model Balanced Accuracy: \", lr_acc_bal)\n",
        "\n",
        "model_rf.fit(X_train_res, y_train_res)\n",
        "rf_acc = accuracy_score(y_test, model_rf.predict(X_test))\n",
        "print(\"RF Model Accuracy: \", rf_acc)\n",
        "rf_acc_bal = balanced_accuracy_score(y_test, model_rf.predict(X_test))\n",
        "print(\"RF Model Balanced Accuracy: \", rf_acc_bal)\n",
        "\n",
        "print(\"*Limited Data Columns*\")\n",
        "\n",
        "model_lr.fit(X_h_train_res, y_h_train_res)\n",
        "lr_h_acc = accuracy_score(y_h_test, model_lr.predict(X_h_test))\n",
        "print(\"LR Model Accuracy: \", lr_h_acc)\n",
        "lr_h_acc_bal = balanced_accuracy_score(y_h_test, model_lr.predict(X_h_test))\n",
        "print(\"LR Model Balanced Accuracy: \", lr_h_acc_bal)\n",
        "\n",
        "model_rf.fit(X_h_train_res, y_h_train_res)\n",
        "rf_h_acc = accuracy_score(y_h_test, model_rf.predict(X_h_test))\n",
        "print(\"RF Model Accuracy: \", rf_h_acc)\n",
        "rf_h_acc_bal = balanced_accuracy_score(y_h_test, model_rf.predict(X_h_test))\n",
        "print(\"RF Model Balanced Accuracy: \", rf_h_acc_bal)\n"
      ]
    },
    {
      "cell_type": "markdown",
      "metadata": {},
      "source": [
        "Part Three - Permutation Importances and Gradient Boosting\n",
        "\n",
        "From the last part two things are clear:\n",
        "1. The additional H and moid data columns dramatically affect the power of the model, \n",
        "    to the point they could be considered 'leaky'.\n",
        "2. Resampling to balance the dataset greatly improves the fit of the final model.\n",
        "\n",
        "So for this next part we are going to focus on just the limited (_h) and resampled datasets\n",
        "and try to improve the models based on them."
      ]
    },
    {
      "cell_type": "code",
      "execution_count": 47,
      "metadata": {},
      "outputs": [
        {
          "data": {
            "text/html": [
              "<style>#sk-container-id-3 {color: black;background-color: white;}#sk-container-id-3 pre{padding: 0;}#sk-container-id-3 div.sk-toggleable {background-color: white;}#sk-container-id-3 label.sk-toggleable__label {cursor: pointer;display: block;width: 100%;margin-bottom: 0;padding: 0.3em;box-sizing: border-box;text-align: center;}#sk-container-id-3 label.sk-toggleable__label-arrow:before {content: \"▸\";float: left;margin-right: 0.25em;color: #696969;}#sk-container-id-3 label.sk-toggleable__label-arrow:hover:before {color: black;}#sk-container-id-3 div.sk-estimator:hover label.sk-toggleable__label-arrow:before {color: black;}#sk-container-id-3 div.sk-toggleable__content {max-height: 0;max-width: 0;overflow: hidden;text-align: left;background-color: #f0f8ff;}#sk-container-id-3 div.sk-toggleable__content pre {margin: 0.2em;color: black;border-radius: 0.25em;background-color: #f0f8ff;}#sk-container-id-3 input.sk-toggleable__control:checked~div.sk-toggleable__content {max-height: 200px;max-width: 100%;overflow: auto;}#sk-container-id-3 input.sk-toggleable__control:checked~label.sk-toggleable__label-arrow:before {content: \"▾\";}#sk-container-id-3 div.sk-estimator input.sk-toggleable__control:checked~label.sk-toggleable__label {background-color: #d4ebff;}#sk-container-id-3 div.sk-label input.sk-toggleable__control:checked~label.sk-toggleable__label {background-color: #d4ebff;}#sk-container-id-3 input.sk-hidden--visually {border: 0;clip: rect(1px 1px 1px 1px);clip: rect(1px, 1px, 1px, 1px);height: 1px;margin: -1px;overflow: hidden;padding: 0;position: absolute;width: 1px;}#sk-container-id-3 div.sk-estimator {font-family: monospace;background-color: #f0f8ff;border: 1px dotted black;border-radius: 0.25em;box-sizing: border-box;margin-bottom: 0.5em;}#sk-container-id-3 div.sk-estimator:hover {background-color: #d4ebff;}#sk-container-id-3 div.sk-parallel-item::after {content: \"\";width: 100%;border-bottom: 1px solid gray;flex-grow: 1;}#sk-container-id-3 div.sk-label:hover label.sk-toggleable__label {background-color: #d4ebff;}#sk-container-id-3 div.sk-serial::before {content: \"\";position: absolute;border-left: 1px solid gray;box-sizing: border-box;top: 0;bottom: 0;left: 50%;z-index: 0;}#sk-container-id-3 div.sk-serial {display: flex;flex-direction: column;align-items: center;background-color: white;padding-right: 0.2em;padding-left: 0.2em;position: relative;}#sk-container-id-3 div.sk-item {position: relative;z-index: 1;}#sk-container-id-3 div.sk-parallel {display: flex;align-items: stretch;justify-content: center;background-color: white;position: relative;}#sk-container-id-3 div.sk-item::before, #sk-container-id-3 div.sk-parallel-item::before {content: \"\";position: absolute;border-left: 1px solid gray;box-sizing: border-box;top: 0;bottom: 0;left: 50%;z-index: -1;}#sk-container-id-3 div.sk-parallel-item {display: flex;flex-direction: column;z-index: 1;position: relative;background-color: white;}#sk-container-id-3 div.sk-parallel-item:first-child::after {align-self: flex-end;width: 50%;}#sk-container-id-3 div.sk-parallel-item:last-child::after {align-self: flex-start;width: 50%;}#sk-container-id-3 div.sk-parallel-item:only-child::after {width: 0;}#sk-container-id-3 div.sk-dashed-wrapped {border: 1px dashed gray;margin: 0 0.4em 0.5em 0.4em;box-sizing: border-box;padding-bottom: 0.4em;background-color: white;}#sk-container-id-3 div.sk-label label {font-family: monospace;font-weight: bold;display: inline-block;line-height: 1.2em;}#sk-container-id-3 div.sk-label-container {text-align: center;}#sk-container-id-3 div.sk-container {/* jupyter's `normalize.less` sets `[hidden] { display: none; }` but bootstrap.min.css set `[hidden] { display: none !important; }` so we also need the `!important` here to be able to override the default hidden behavior on the sphinx rendered scikit-learn.org. See: https://github.com/scikit-learn/scikit-learn/issues/21755 */display: inline-block !important;position: relative;}#sk-container-id-3 div.sk-text-repr-fallback {display: none;}</style><div id=\"sk-container-id-3\" class=\"sk-top-container\"><div class=\"sk-text-repr-fallback\"><pre>Pipeline(steps=[(&#x27;randomforestclassifier&#x27;,\n",
              "                 RandomForestClassifier(n_jobs=-1, random_state=42))])</pre><b>In a Jupyter environment, please rerun this cell to show the HTML representation or trust the notebook. <br />On GitHub, the HTML representation is unable to render, please try loading this page with nbviewer.org.</b></div><div class=\"sk-container\" hidden><div class=\"sk-item sk-dashed-wrapped\"><div class=\"sk-label-container\"><div class=\"sk-label sk-toggleable\"><input class=\"sk-toggleable__control sk-hidden--visually\" id=\"sk-estimator-id-6\" type=\"checkbox\" ><label for=\"sk-estimator-id-6\" class=\"sk-toggleable__label sk-toggleable__label-arrow\">Pipeline</label><div class=\"sk-toggleable__content\"><pre>Pipeline(steps=[(&#x27;randomforestclassifier&#x27;,\n",
              "                 RandomForestClassifier(n_jobs=-1, random_state=42))])</pre></div></div></div><div class=\"sk-serial\"><div class=\"sk-item\"><div class=\"sk-estimator sk-toggleable\"><input class=\"sk-toggleable__control sk-hidden--visually\" id=\"sk-estimator-id-7\" type=\"checkbox\" ><label for=\"sk-estimator-id-7\" class=\"sk-toggleable__label sk-toggleable__label-arrow\">RandomForestClassifier</label><div class=\"sk-toggleable__content\"><pre>RandomForestClassifier(n_jobs=-1, random_state=42)</pre></div></div></div></div></div></div></div>"
            ],
            "text/plain": [
              "Pipeline(steps=[('randomforestclassifier',\n",
              "                 RandomForestClassifier(n_jobs=-1, random_state=42))])"
            ]
          },
          "execution_count": 47,
          "metadata": {},
          "output_type": "execute_result"
        }
      ],
      "source": [
        "#reconstruct the models for part 3 and get their feature importances\n",
        "\n",
        "model_lr = make_pipeline(StandardScaler(), LogisticRegression(max_iter=500))\n",
        "model_rf = make_pipeline(RandomForestClassifier(n_estimators=100, n_jobs=-1, random_state=42))\n",
        "\n",
        "model_lr.fit(X_h_train_res, y_h_train_res)\n",
        "model_rf.fit(X_h_train_res, y_h_train_res)"
      ]
    },
    {
      "cell_type": "code",
      "execution_count": 48,
      "metadata": {},
      "outputs": [
        {
          "data": {
            "text/plain": [
              "Text(0.5, 0, 'coefficient')"
            ]
          },
          "execution_count": 48,
          "metadata": {},
          "output_type": "execute_result"
        },
        {
          "data": {
            "image/png": "[encoded data removed]",
            "text/plain": [
              "<Figure size 432x288 with 1 Axes>"
            ]
          },
          "metadata": {
            "needs_background": "light"
          },
          "output_type": "display_data"
        }
      ],
      "source": [
        "lr_imp = model_lr.named_steps['logisticregression'].coef_[0]\n",
        "pd.Series(data=lr_imp, index=X_h.columns).sort_values(key=abs).tail(10).plot(kind='barh')\n",
        "plt.title('Logistic Regression Model')\n",
        "plt.ylabel('features')\n",
        "plt.xlabel('coefficient')\n"
      ]
    },
    {
      "cell_type": "code",
      "execution_count": 49,
      "metadata": {},
      "outputs": [
        {
          "data": {
            "text/plain": [
              "Text(0.5, 0, 'importance')"
            ]
          },
          "execution_count": 49,
          "metadata": {},
          "output_type": "execute_result"
        },
        {
          "data": {
            "image/png": "[encoded data removed]",
            "text/plain": [
              "<Figure size 432x288 with 1 Axes>"
            ]
          },
          "metadata": {
            "needs_background": "light"
          },
          "output_type": "display_data"
        }
      ],
      "source": [
        "rf_imp = model_rf.named_steps['randomforestclassifier'].feature_importances_\n",
        "pd.Series(data=rf_imp, index=X_h.columns).sort_values(key=abs).tail(10).plot(kind='barh')\n",
        "plt.title('Random Forest Model')\n",
        "plt.ylabel('features')\n",
        "plt.xlabel('importance')"
      ]
    },
    {
      "cell_type": "markdown",
      "metadata": {},
      "source": [
        "Looking at the above plots, both models prioritize q (perihelion distance) as well as a collection of other features.\n",
        "It's worth noting the tree-based model is more balanced in its features while the LR model includes some questionable\n",
        "coefficients (_sigma columns represent error values) that may not actually be contributing."
      ]
    },
    {
      "cell_type": "code",
      "execution_count": 50,
      "metadata": {},
      "outputs": [],
      "source": [
        "# Split testing values into validation and testing sets for permutation tuning\n",
        "X_h_val_p, X_h_test_p, y_h_val_p, y_h_test_p = train_test_split(X_h_test, y_h_test, train_size=0.5, random_state=42)\n",
        "\n",
        "#generate permutation importance arrays\n",
        "lr_imp_p = permutation_importance(model_lr, X_h_val_p, y_h_val_p, scoring='balanced_accuracy', n_jobs=-1, random_state=42)\n",
        "rf_imp_p = permutation_importance(model_rf, X_h_val_p, y_h_val_p, scoring='balanced_accuracy', n_jobs=-1, random_state=42)\n",
        "\n",
        "data_lr_p = {'imp_mean':lr_imp_p['importances_mean'], 'imp_std':lr_imp_p['importances_std']}\n",
        "df_lr_p = pd.DataFrame(data_lr_p, index=X_h_val_p.columns, columns=data_lr_p)\n",
        "data_rf_p = {'imp_mean':rf_imp_p['importances_mean'], 'imp_std':lr_imp_p['importances_std']}\n",
        "df_rf_p = pd.DataFrame(data_rf_p, index=X_h_val_p.columns, columns=data_rf_p)"
      ]
    },
    {
      "cell_type": "code",
      "execution_count": 51,
      "metadata": {},
      "outputs": [
        {
          "data": {
            "text/plain": [
              "Text(0.5, 0, 'perm. importance')"
            ]
          },
          "execution_count": 51,
          "metadata": {},
          "output_type": "execute_result"
        },
        {
          "data": {
            "image/png": "[encoded data removed]",
            "text/plain": [
              "<Figure size 432x288 with 1 Axes>"
            ]
          },
          "metadata": {
            "needs_background": "light"
          },
          "output_type": "display_data"
        }
      ],
      "source": [
        "df_lr_p['imp_mean'].sort_values(key=abs).tail(10).plot(kind='barh')\n",
        "plt.ylabel('features')\n",
        "plt.xlabel('perm. importance')"
      ]
    },
    {
      "cell_type": "code",
      "execution_count": 52,
      "metadata": {},
      "outputs": [
        {
          "data": {
            "text/plain": [
              "Text(0.5, 0, 'perm. importance')"
            ]
          },
          "execution_count": 52,
          "metadata": {},
          "output_type": "execute_result"
        },
        {
          "data": {
            "image/png": "[encoded data removed]",
            "text/plain": [
              "<Figure size 432x288 with 1 Axes>"
            ]
          },
          "metadata": {
            "needs_background": "light"
          },
          "output_type": "display_data"
        }
      ],
      "source": [
        "df_rf_p['imp_mean'].sort_values(key=abs).tail(10).plot(kind='barh')\n",
        "plt.ylabel('features')\n",
        "plt.xlabel('perm. importance')"
      ]
    },
    {
      "cell_type": "markdown",
      "metadata": {},
      "source": [
        "This confirms something is likely going wrong in the Logistic Regression model, so we \n",
        "are going to drop it going forward.\n",
        "Now, onto the least relevant data columns in the remaining model:"
      ]
    },
    {
      "cell_type": "code",
      "execution_count": 53,
      "metadata": {},
      "outputs": [
        {
          "data": {
            "text/plain": [
              "Text(0.5, 0, 'perm. importance')"
            ]
          },
          "execution_count": 53,
          "metadata": {},
          "output_type": "execute_result"
        },
        {
          "data": {
            "image/png": "[encoded data removed]",
            "text/plain": [
              "<Figure size 432x288 with 1 Axes>"
            ]
          },
          "metadata": {
            "needs_background": "light"
          },
          "output_type": "display_data"
        }
      ],
      "source": [
        "df_rf_p['imp_mean'].sort_values(key=abs).head(20).plot(kind='barh')\n",
        "plt.ylabel('features')\n",
        "plt.xlabel('perm. importance')"
      ]
    },
    {
      "cell_type": "markdown",
      "metadata": {},
      "source": [
        "From the above we can see that it should be possible to drop some columns to reduce noise.\n",
        "We can 1. Drop columns below a certain importance threshold and 2. Drop columns whose\n",
        "corresponding error columns (sigma) are ranked with higher importance (ie the noise \n",
        "in the data is being ranked as more important than the data, so both are probably irrelevant)"
      ]
    },
    {
      "cell_type": "code",
      "execution_count": 55,
      "metadata": {},
      "outputs": [],
      "source": [
        "#create final train, val, test sets by dropping noise columns\n",
        "\n",
        "noise_cols = ['sigma_tp', 'sigma_w', 'sigma_q', 'sigma_e', 'sigma_ma', 'sigma_om', 'sigma_i', \n",
        "                'tp', 'rms', 'i', 'w', 'albedo', 'om', 'epoch', 'ma', 'diameter_sigma']\n",
        "\n",
        "X_train_final = X_h_train_res.drop(columns=noise_cols)\n",
        "X_val_final = X_h_val_p.drop(columns=noise_cols)\n",
        "X_test_final = X_h_test_p.drop(columns=noise_cols)\n",
        "y_train_final, y_val_final, y_test_final = y_h_train_res, y_h_val_p, y_h_test_p"
      ]
    },
    {
      "cell_type": "code",
      "execution_count": 56,
      "metadata": {},
      "outputs": [
        {
          "name": "stdout",
          "output_type": "stream",
          "text": [
            "Fitting 5 folds for each of 10 candidates, totalling 50 fits\n",
            "Tuned params:  {'n_estimators': 170, 'min_child_weight': 5, 'max_depth': 6, 'learning_rate': 0.3}\n",
            "Best Balanced Accuracy Score:  0.9983582487987187\n",
            "Previous best RF model score:  0.8770511498510682\n"
          ]
        }
      ],
      "source": [
        "# Build a new Gradient Boosted model using the improved dataset\n",
        "\n",
        "#setup for hyperparam tuning\n",
        "tun_params = {\"n_estimators\": np.arange(70, 180, 10),\n",
        "                \"max_depth\": np.arange(3, 16, 1),\n",
        "                \"min_child_weight\": np.arange(1, 10, 2),\n",
        "                \"learning_rate\": np.arange(0.05, 0.40, 0.05)}\n",
        "#fit new xgb model to new dataset\n",
        "xgb_inst = XGBClassifier(random_state=42) #no further pipeline needed\n",
        "model_xgb = RandomizedSearchCV(xgb_inst, tun_params, cv=5, n_iter=10, scoring='balanced_accuracy', \n",
        "                                n_jobs=-1, random_state=42, verbose=1)\n",
        "model_xgb.fit(X_train_final, y_train_final)\n",
        "\n",
        "#display tuned hyperparameters and new model accuracy\n",
        "print(\"Tuned params: \", model_xgb.best_params_)\n",
        "print(\"Best Balanced Accuracy Score: \", model_xgb.best_score_)\n",
        "#bring back old score for comparison\n",
        "print(\"Previous best RF model score: \", rf_h_acc_bal)\n"
      ]
    },
    {
      "cell_type": "code",
      "execution_count": 57,
      "metadata": {},
      "outputs": [
        {
          "name": "stdout",
          "output_type": "stream",
          "text": [
            "Fitting 5 folds for each of 10 candidates, totalling 50 fits\n",
            "Tuned params (unpruned dataset):  {'n_estimators': 170, 'min_child_weight': 5, 'max_depth': 6, 'learning_rate': 0.3}\n",
            "Best Balanced Accuracy Score (unpruned dataset):  0.9991070475173519\n",
            "Previous best RF model score:  0.8770511498510682\n"
          ]
        }
      ],
      "source": [
        "# Build the same model on the old dataset for comparison\n",
        "\n",
        "model_xgb.fit(X_h_train_res, y_h_train_res)\n",
        "\n",
        "#display tuned hyperparameters and new model accuracy\n",
        "print(\"Tuned params (unpruned dataset): \", model_xgb.best_params_)\n",
        "print(\"Best Balanced Accuracy Score (unpruned dataset): \", model_xgb.best_score_)\n",
        "#bring back old score for comparison\n",
        "print(\"Previous best RF model score: \", rf_h_acc_bal)"
      ]
    }
  ],
  "metadata": {
    "colab": {
      "name": "LS_DS_231_assignment_JD.ipynb",
      "provenance": []
    },
    "interpreter": {
      "hash": "687c238b3ce093b6d05593c14198ba6d4a27c356ca33aff629c1e2e7517a29f8"
    },
    "kernelspec": {
      "display_name": "Python 3.8.8 ('base')",
      "language": "python",
      "name": "python3"
    },
    "language_info": {
      "codemirror_mode": {
        "name": "ipython",
        "version": 3
      },
      "file_extension": ".py",
      "mimetype": "text/x-python",
      "name": "python",
      "nbconvert_exporter": "python",
      "pygments_lexer": "ipython3",
      "version": "3.8.8"
    }
  },
  "nbformat": 4,
  "nbformat_minor": 0
}
